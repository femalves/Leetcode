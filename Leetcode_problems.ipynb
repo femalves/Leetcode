{
 "cells": [
  {
   "cell_type": "markdown",
   "metadata": {},
   "source": [
    "# 1231. Divide Chocolate\n",
    "\n",
    "You have one chocolate bar that consists of some chunks. Each chunk has its own sweetness given by the array sweetness.\n",
    "\n",
    "You want to share the chocolate with your K friends so you start cutting the chocolate bar into K+1 pieces using K cuts, each piece consists of some consecutive chunks.\n",
    "\n",
    "Being generous, you will eat the piece with the minimum total sweetness and give the other pieces to your friends.\n",
    "\n",
    "Find the maximum total sweetness of the piece you can get by cutting the chocolate bar optimally.\n",
    "\n",
    "Example 1:\n",
    "\n",
    "Input: sweetness = [1,2,3,4,5,6,7,8,9], K = 5\n",
    "Output: 6\n",
    "Explanation: You can divide the chocolate to [1,2,3], [4,5], [6], [7], [8], [9]\n",
    "Example 2:\n",
    "\n",
    "Input: sweetness = [5,6,7,8,9,1,2,3,4], K = 8\n",
    "Output: 1\n",
    "Explanation: There is only one way to cut the bar into 9 pieces.\n",
    "Example 3:\n",
    "\n",
    "Input: sweetness = [1,2,2,1,2,2,1,2,2], K = 2\n",
    "Output: 5\n",
    "Explanation: You can divide the chocolate to [1,2,2], [1,2,2], [1,2,2]\n",
    "\n",
    "Constraints:\n",
    "\n",
    "0 <= K < sweetness.length <= 10^4\n",
    "1 <= sweetness[i] <= 10^5\n",
    "\n",
    "Similar problems: \n",
    "\n",
    "Find the Smallest Divisor Given a Threshold\n",
    "Divide Chocolate\n",
    "Capacity To Ship Packages In N Days\n",
    "Koko Eating Bananas\n",
    "Minimize Max Distance to Gas Station\n",
    "Split Array Largest Sum"
   ]
  },
  {
   "cell_type": "code",
   "execution_count": 1,
   "metadata": {},
   "outputs": [],
   "source": [
    "def maximizeSweetness(self, sweetness, K):\n",
    "    \"\"\"\n",
    "    :type sweetness: List[int]\n",
    "    :type K: int\n",
    "    :rtype: int\n",
    "    \"\"\"\n",
    "\n",
    "    # O(nlogs) where n is the sweetness and s is max_sweetness-min_sweetness\n",
    "    friends = K+1\n",
    "    min_sweetness, max_sweetness = 1, sum(sweetness)/friends\n",
    "\n",
    "    while min_sweetness <= max_sweetness:\n",
    "        sweetness_per_chunk_guess = (min_sweetness + max_sweetness) / 2\n",
    "        chunks = curr_chunk_sweetness = 0\n",
    "        for item_sweetness in sweetness:\n",
    "            curr_chunk_sweetness += item_sweetness\n",
    "            if curr_chunk_sweetness >= sweetness_per_chunk_guess:\n",
    "                chunks += 1\n",
    "                curr_chunk_sweetness = 0\n",
    "\n",
    "        if chunks >= friends:\n",
    "            min_sweetness = sweetness_per_chunk_guess + 1\n",
    "        else:\n",
    "            max_sweetness = sweetness_per_chunk_guess - 1\n",
    "    return max_sweetness\n",
    "        "
   ]
  },
  {
   "cell_type": "code",
   "execution_count": null,
   "metadata": {},
   "outputs": [],
   "source": []
  }
 ],
 "metadata": {
  "kernelspec": {
   "display_name": "Python 3",
   "language": "python",
   "name": "python3"
  },
  "language_info": {
   "codemirror_mode": {
    "name": "ipython",
    "version": 3
   },
   "file_extension": ".py",
   "mimetype": "text/x-python",
   "name": "python",
   "nbconvert_exporter": "python",
   "pygments_lexer": "ipython3",
   "version": "3.6.4"
  }
 },
 "nbformat": 4,
 "nbformat_minor": 2
}
